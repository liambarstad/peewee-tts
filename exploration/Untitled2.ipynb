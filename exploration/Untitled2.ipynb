{
 "cells": [
  {
   "cell_type": "code",
   "execution_count": null,
   "id": "1657424f-9d09-4f32-8f26-1a19f72b081c",
   "metadata": {},
   "outputs": [],
   "source": [
    "from datasets.speaker_audio_dataset import SpeakerAudioDataset\n",
    "from model.layers.lstmp import LSTMPCell"
   ]
  },
  {
   "cell_type": "code",
   "execution_count": 34,
   "id": "c9d1a5c6-ce3f-4604-877f-34c30e15beb3",
   "metadata": {},
   "outputs": [],
   "source": [
    "sample_rate = 22050\n",
    "mel_params = {\n",
    "    'n_fft': int(1024 * (sample_rate / 16000)),\n",
    "    'hop_length': int(256 * (sample_rate / 16000)),\n",
    "    'win_length': int(1024 * (sample_rate / 16000)),\n",
    "    'n_mels': 80\n",
    "}\n",
    "\n",
    "model_params = {\n",
    "    'input_size': 80,\n",
    "    'hidden_size': 257,\n",
    "    'projection_size': 256,\n",
    "    'embedding_size': 256,\n",
    "    'num_layers': 3\n",
    "}"
   ]
  },
  {
   "cell_type": "code",
   "execution_count": 3,
   "id": "ab21e56c-9605-40b3-972f-8209f48b26f1",
   "metadata": {},
   "outputs": [],
   "source": [
    "dataset = SpeakerAudioDataset('../data/utterance_corpuses/LibriTTS/dev-clean', sample_rate, mel_params)\n",
    "test_Y, test_X = dataset[0]"
   ]
  },
  {
   "cell_type": "code",
   "execution_count": 59,
   "id": "6c931894-e3c6-4de9-859d-411e886a381b",
   "metadata": {},
   "outputs": [],
   "source": [
    "import torch\n",
    "from torch import nn\n",
    "from torch.nn import functional as func\n",
    "\n",
    "class SpeakerVerificationLSTMEncoder(nn.Module):\n",
    "    def __init__(self, \n",
    "                 input_size, \n",
    "                 hidden_size, \n",
    "                 projection_size, \n",
    "                 embedding_size,\n",
    "                 num_layers\n",
    "                ):\n",
    "        super(SpeakerVerificationLSTMEncoder, self).__init__()\n",
    "        self.input_size = input_size\n",
    "        self.hidden_size = hidden_size\n",
    "        self.projection_size = projection_size\n",
    "        self.embedding_size = embedding_size\n",
    "        self.num_layers = num_layers\n",
    "        \n",
    "        self.lstm = nn.LSTM(\n",
    "            self.input_size, \n",
    "            self.hidden_size, \n",
    "            self.num_layers, \n",
    "            proj_size=self.projection_size,\n",
    "            batch_first=True\n",
    "        )\n",
    "        \n",
    "        self.linear = nn.Linear(\n",
    "            in_features=self.projection_size, \n",
    "            out_features=self.embedding_size\n",
    "        )\n",
    "        \n",
    "        self.relu = nn.ReLU()\n",
    "        \n",
    "    def forward(self, x):\n",
    "        # (64, 636, 80)\n",
    "        \n",
    "        # lstm with projection\n",
    "        x, (hx, cx) = self.lstm(x)\n",
    "        \n",
    "        # linear layer w/ relu\n",
    "        x = self.relu(self.linear(hx[-1]))\n",
    "        \n",
    "        # l2 normalize\n",
    "        x = func.normalize(x, p=2, dim=1)\n",
    "        \n",
    "        return x"
   ]
  },
  {
   "cell_type": "code",
   "execution_count": 61,
   "id": "322f1fcd-edf0-428e-9ef6-2501ab269859",
   "metadata": {},
   "outputs": [
    {
     "data": {
      "text/plain": [
       "(tensor([[0.0318, 0.0099, 0.0000,  ..., 0.0507, 0.0000, 0.0421],\n",
       "         [0.0324, 0.0092, 0.0000,  ..., 0.0505, 0.0000, 0.0423],\n",
       "         [0.0307, 0.0107, 0.0000,  ..., 0.0530, 0.0000, 0.0432],\n",
       "         ...,\n",
       "         [0.0356, 0.0106, 0.0000,  ..., 0.0518, 0.0000, 0.0440],\n",
       "         [0.0327, 0.0093, 0.0000,  ..., 0.0526, 0.0000, 0.0429],\n",
       "         [0.0339, 0.0103, 0.0000,  ..., 0.0515, 0.0000, 0.0410]],\n",
       "        grad_fn=<DivBackward0>),\n",
       " torch.Size([64, 256]))"
      ]
     },
     "execution_count": 61,
     "metadata": {},
     "output_type": "execute_result"
    }
   ],
   "source": [
    "# generate (xj, (xk1, ...xkM))\n",
    "# if j = k (speakers), positive\n",
    "# else negative\n",
    "# generate pos/neg alternatively\n",
    "# compute l2 norm response from lstm\n",
    "# (ej, (ek1, ...ekM))\n",
    "# compute centroid of (ek1, ...ekM), ckM\n",
    "\n",
    "model = SpeakerVerificationLSTMEncoder(**model_params)\n",
    "x = model(torch.randn(64, 636, 80))\n",
    "# compute centroids of each row\n",
    "x, x.shape"
   ]
  }
 ],
 "metadata": {
  "kernelspec": {
   "display_name": "py38",
   "language": "python",
   "name": "py38"
  },
  "language_info": {
   "codemirror_mode": {
    "name": "ipython",
    "version": 3
   },
   "file_extension": ".py",
   "mimetype": "text/x-python",
   "name": "python",
   "nbconvert_exporter": "python",
   "pygments_lexer": "ipython3",
   "version": "3.8.15"
  }
 },
 "nbformat": 4,
 "nbformat_minor": 5
}
