{
 "cells": [
  {
   "cell_type": "code",
   "execution_count": 2,
   "id": "ae5321c1-7e16-4722-9e06-5047680180a0",
   "metadata": {},
   "outputs": [],
   "source": [
    "data = {'contrast': [1.0082643032073975, 1.0082637071609497, 1.0082638263702393, 1.0082639455795288, 1.008264183998108], 'loss': [1.6427713632583618, 1.6427712440490723, 1.6427711248397827, 1.6427712440490723, 1.6427711248397827]}"
   ]
  },
  {
   "cell_type": "code",
   "execution_count": 19,
   "id": "78a635f0-544c-4dbe-a47b-625bd068df14",
   "metadata": {},
   "outputs": [],
   "source": [
    "import plotly.express as px\n",
    "import pandas as pd\n",
    "\n",
    "inc = 5\n",
    "\n",
    "contrast = data['contrast']\n",
    "\n",
    "df = pd.DataFrame({ 'step': [ i * inc for i, _ in enumerate(contrast) ], 'contrast': contrast })\n",
    "fig = px.line(df, x='step', y='contrast', text='contrast', title='contrast')\n",
    "fig.update_traces(textposition=\"top left\")\n",
    "fig.write_image(\"yourfile.png\") "
   ]
  },
  {
   "cell_type": "code",
   "execution_count": 12,
   "id": "42cf44ac-dff4-40b8-b32a-1c11b9b07ef3",
   "metadata": {},
   "outputs": [
    {
     "data": {
      "text/plain": [
       "'u'"
      ]
     },
     "execution_count": 12,
     "metadata": {},
     "output_type": "execute_result"
    }
   ],
   "source": [
    "counters = [['s', 't', 'u'], ['f', 'g', 'r']]\n",
    "\n",
    "next(filter(lambda c: c[0] == 's', counters))[-1]"
   ]
  },
  {
   "cell_type": "code",
   "execution_count": 20,
   "id": "110767fd-51a4-446c-af01-f3732eae8cfc",
   "metadata": {},
   "outputs": [
    {
     "data": {
      "text/plain": [
       "'file:///Users/chameleon/Documents/pee_wees_playhouse_AI/exploration/mlruns/0/163d46a7815d49169a2c4c74e2d99425/artifacts'"
      ]
     },
     "execution_count": 20,
     "metadata": {},
     "output_type": "execute_result"
    }
   ],
   "source": [
    "from PIL import Image\n",
    "import mlflow\n",
    "\n",
    "#with Image.open(\"yourfile.png\") as im:\n",
    "#    mlflow.log_image(im, 'contrast.png')\n",
    "\n",
    "mlflow.get_artifact_uri()"
   ]
  },
  {
   "cell_type": "code",
   "execution_count": 31,
   "id": "97758957-db8b-4411-8201-eb7970808b81",
   "metadata": {},
   "outputs": [],
   "source": [
    "df.to_csv('name', index=False)"
   ]
  },
  {
   "cell_type": "code",
   "execution_count": 34,
   "id": "28db9a98-6c3d-4919-bd32-34c9d0610a30",
   "metadata": {},
   "outputs": [
    {
     "data": {
      "text/html": [
       "<div>\n",
       "<style scoped>\n",
       "    .dataframe tbody tr th:only-of-type {\n",
       "        vertical-align: middle;\n",
       "    }\n",
       "\n",
       "    .dataframe tbody tr th {\n",
       "        vertical-align: top;\n",
       "    }\n",
       "\n",
       "    .dataframe thead th {\n",
       "        text-align: right;\n",
       "    }\n",
       "</style>\n",
       "<table border=\"1\" class=\"dataframe\">\n",
       "  <thead>\n",
       "    <tr style=\"text-align: right;\">\n",
       "      <th></th>\n",
       "      <th>step</th>\n",
       "      <th>contrast</th>\n",
       "    </tr>\n",
       "  </thead>\n",
       "  <tbody>\n",
       "    <tr>\n",
       "      <th>0</th>\n",
       "      <td>0</td>\n",
       "      <td>1.008264</td>\n",
       "    </tr>\n",
       "    <tr>\n",
       "      <th>1</th>\n",
       "      <td>5</td>\n",
       "      <td>1.008264</td>\n",
       "    </tr>\n",
       "    <tr>\n",
       "      <th>2</th>\n",
       "      <td>10</td>\n",
       "      <td>1.008264</td>\n",
       "    </tr>\n",
       "    <tr>\n",
       "      <th>3</th>\n",
       "      <td>15</td>\n",
       "      <td>1.008264</td>\n",
       "    </tr>\n",
       "    <tr>\n",
       "      <th>4</th>\n",
       "      <td>20</td>\n",
       "      <td>1.008264</td>\n",
       "    </tr>\n",
       "  </tbody>\n",
       "</table>\n",
       "</div>"
      ],
      "text/plain": [
       "   step  contrast\n",
       "0     0  1.008264\n",
       "1     5  1.008264\n",
       "2    10  1.008264\n",
       "3    15  1.008264\n",
       "4    20  1.008264"
      ]
     },
     "execution_count": 34,
     "metadata": {},
     "output_type": "execute_result"
    }
   ],
   "source": [
    "pd.read_csv('name.csv')"
   ]
  }
 ],
 "metadata": {
  "kernelspec": {
   "display_name": "py38",
   "language": "python",
   "name": "py38"
  },
  "language_info": {
   "codemirror_mode": {
    "name": "ipython",
    "version": 3
   },
   "file_extension": ".py",
   "mimetype": "text/x-python",
   "name": "python",
   "nbconvert_exporter": "python",
   "pygments_lexer": "ipython3",
   "version": "3.8.15"
  }
 },
 "nbformat": 4,
 "nbformat_minor": 5
}
